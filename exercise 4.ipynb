{
 "cells": [
  {
   "cell_type": "code",
   "execution_count": 9,
   "id": "57b33f4c",
   "metadata": {},
   "outputs": [],
   "source": [
    "import xml.etree.ElementTree as ET\n",
    "from pprint import pprint as pp\n",
    "tree = ET.parse('desc2022.xml')\n",
    "root = tree.getroot()"
   ]
  },
  {
   "cell_type": "code",
   "execution_count": 11,
   "id": "399839ec",
   "metadata": {},
   "outputs": [
    {
     "name": "stdout",
     "output_type": "stream",
     "text": [
      "Immune System Diseases\n"
     ]
    }
   ],
   "source": [
    "def find_des_name(UI):\n",
    "    for DescRe in root:\n",
    "        if (DescRe.find('DescriptorUI').text == UI):\n",
    "            print(DescRe.find('DescriptorName').find('String').text)\n",
    "\n",
    "find_des_name('D007154')"
   ]
  },
  {
   "cell_type": "code",
   "execution_count": 21,
   "id": "18f597ef",
   "metadata": {},
   "outputs": [
    {
     "name": "stdout",
     "output_type": "stream",
     "text": [
      "D009422\n"
     ]
    }
   ],
   "source": [
    "def find_des_ui(Name):\n",
    "    for DescRe in root:\n",
    "        if (DescRe.find('DescriptorName').find('String').text == Name):\n",
    "            print(DescRe.find('DescriptorUI').text)\n",
    "\n",
    "find_des_ui('Nervous System Diseases')"
   ]
  },
  {
   "cell_type": "code",
   "execution_count": 21,
   "id": "b829725c",
   "metadata": {},
   "outputs": [
    {
     "data": {
      "text/plain": [
       "['Autoimmune Hypophysitis',\n",
       " 'Ataxia Telangiectasia',\n",
       " 'Diffuse Cerebral Sclerosis of Schilder',\n",
       " 'Encephalomyelitis, Acute Disseminated',\n",
       " 'Encephalomyelitis, Autoimmune, Experimental',\n",
       " 'Leukoencephalitis, Acute Hemorrhagic',\n",
       " 'Kernicterus',\n",
       " 'Multiple Sclerosis',\n",
       " 'Myasthenia Gravis',\n",
       " 'Myelitis, Transverse',\n",
       " 'Neuritis, Autoimmune, Experimental',\n",
       " 'Neuromyelitis Optica',\n",
       " 'Polyradiculoneuropathy',\n",
       " 'Giant Cell Arteritis',\n",
       " 'Uveomeningoencephalitic Syndrome',\n",
       " 'AIDS Dementia Complex',\n",
       " 'Lambert-Eaton Myasthenic Syndrome',\n",
       " 'Stiff-Person Syndrome',\n",
       " 'POEMS Syndrome',\n",
       " 'Miller Fisher Syndrome',\n",
       " 'Autoimmune Diseases of the Nervous System',\n",
       " 'Guillain-Barre Syndrome',\n",
       " 'Polyradiculoneuropathy, Chronic Inflammatory Demyelinating',\n",
       " 'Demyelinating Autoimmune Diseases, CNS',\n",
       " 'Vasculitis, Central Nervous System',\n",
       " 'Multiple Sclerosis, Chronic Progressive',\n",
       " 'Multiple Sclerosis, Relapsing-Remitting',\n",
       " 'Myasthenia Gravis, Autoimmune, Experimental',\n",
       " 'Nervous System Autoimmune Disease, Experimental',\n",
       " 'Myasthenia Gravis, Neonatal',\n",
       " 'AIDS Arteritis, Central Nervous System',\n",
       " 'Lupus Vasculitis, Central Nervous System',\n",
       " 'Mevalonate Kinase Deficiency',\n",
       " 'Microscopic Polyangiitis',\n",
       " 'Anti-N-Methyl-D-Aspartate Receptor Encephalitis']"
      ]
     },
     "execution_count": 21,
     "metadata": {},
     "output_type": "execute_result"
    }
   ],
   "source": [
    "def shared_child(parent1, parent2):\n",
    "    shared_child = []\n",
    "    #get treenumbers\n",
    "    for child in root:\n",
    "        if (child.find('DescriptorUI').text == parent1):\n",
    "            tree1 = child.find('TreeNumberList').findall('TreeNumber')\n",
    "        if (child.find('DescriptorUI').text == parent2):\n",
    "            tree2 = child.find('TreeNumberList').findall('TreeNumber')\n",
    "\n",
    "    def child_identifier(parent,child):\n",
    "        for i in range(len(parent)):\n",
    "            if (parent[i].text in child):\n",
    "                return True\n",
    "        return False      \n",
    "            \n",
    "    for child in root:\n",
    "        if (child.attrib['DescriptorClass']!= '3'):\n",
    "            tree = child.find('TreeNumberList').findall('TreeNumber')\n",
    "            tree_text = ''\n",
    "            for i in range(len(tree)):\n",
    "                tree_text = tree_text + tree[i].text\n",
    "            #check if child of both parents\n",
    "            if (child_identifier(tree1, tree_text) and child_identifier(tree2, tree_text)):\n",
    "                shared_child.append(child.find('DescriptorName')[0].text)\n",
    "    return shared_child\n",
    "\n",
    "shared_child('D007154', 'D009422')\n",
    "\n"
   ]
  },
  {
   "cell_type": "code",
   "execution_count": null,
   "id": "785f4fdb",
   "metadata": {},
   "outputs": [],
   "source": []
  }
 ],
 "metadata": {
  "kernelspec": {
   "display_name": "Python 3 (ipykernel)",
   "language": "python",
   "name": "python3"
  },
  "language_info": {
   "codemirror_mode": {
    "name": "ipython",
    "version": 3
   },
   "file_extension": ".py",
   "mimetype": "text/x-python",
   "name": "python",
   "nbconvert_exporter": "python",
   "pygments_lexer": "ipython3",
   "version": "3.9.12"
  }
 },
 "nbformat": 4,
 "nbformat_minor": 5
}
