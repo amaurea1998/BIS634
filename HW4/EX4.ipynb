{
 "cells": [
  {
   "cell_type": "code",
   "execution_count": 1,
   "id": "176e7a58",
   "metadata": {},
   "outputs": [],
   "source": [
    "import numpy as np\n",
    "import matplotlib.pyplot as plt"
   ]
  },
  {
   "cell_type": "code",
   "execution_count": 29,
   "id": "73974647",
   "metadata": {
    "scrolled": true
   },
   "outputs": [],
   "source": [
    "def smith_waterman(seq1,seq2,match=1,gap_penalty=1,mismatch_penalty=1):\n",
    "    matrix=np.zeros((len(seq1)+1, len(seq2)+1))\n",
    "    for i in range(1, len(seq1) + 1):\n",
    "        for j in range(1, len(seq2) + 1):\n",
    "            if seq1[i-1]==seq2[j-1]:\n",
    "                score = match\n",
    "                matrix[i][j]=score\n",
    "            else:\n",
    "                score =-mismatch_penalty                \n",
    "                matrix[i][j]=score\n",
    "            matrix[i][j] = max(0, matrix[i-1][j-1] + score, matrix[i][j-1] - gap_penalty, matrix[i-1][j] - gap_penalty)\n",
    "    \n",
    "    for i in range(1, len(seq1) + 1):\n",
    "        for j in range(1, len(seq2) + 1):\n",
    "            if matrix[i][j] == matrix.max():\n",
    "                max_i,max_j=i,j\n",
    "    \n",
    "    subseq1 = ''\n",
    "    subseq2 = ''\n",
    "    while matrix[max_i][max_j] != 0:\n",
    "        score_max = matrix[max_i][max_j]\n",
    "        score_up_left = matrix[max_i-1][max_j-1]\n",
    "        score_up = matrix[max_i][max_j-1]\n",
    "        score_left = matrix[max_i-1][max_j]\n",
    "        \n",
    "  "
   ]
  }
 ],
 "metadata": {
  "kernelspec": {
   "display_name": "Python 3 (ipykernel)",
   "language": "python",
   "name": "python3"
  },
  "language_info": {
   "codemirror_mode": {
    "name": "ipython",
    "version": 3
   },
   "file_extension": ".py",
   "mimetype": "text/x-python",
   "name": "python",
   "nbconvert_exporter": "python",
   "pygments_lexer": "ipython3",
   "version": "3.9.12"
  }
 },
 "nbformat": 4,
 "nbformat_minor": 5
}
