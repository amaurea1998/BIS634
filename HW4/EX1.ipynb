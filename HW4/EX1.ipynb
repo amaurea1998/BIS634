{
 "cells": [
  {
   "cell_type": "code",
   "execution_count": 94,
   "id": "c5cbf955",
   "metadata": {},
   "outputs": [],
   "source": [
    "import requests\n",
    "import numpy as np\n",
    "import pprint"
   ]
  },
  {
   "cell_type": "code",
   "execution_count": 55,
   "id": "839ccb51",
   "metadata": {},
   "outputs": [],
   "source": [
    "# query API\n",
    "def query_api(a, b):\n",
    "    return float(requests.get(f\"http://ramcdougal.com/cgi-bin/error_function.py?a={a}&b={b}\", headers={\"User-Agent\": \"MyScript\"}).text)"
   ]
  },
  {
   "cell_type": "code",
   "execution_count": 56,
   "id": "ad942084",
   "metadata": {},
   "outputs": [],
   "source": [
    "def opt_min(a,b,prev_error):\n",
    "    h=1e-4\n",
    "    ss=0.1\n",
    "    stop=1e-4\n",
    "    while(abs(query_api(a,b)-prev_error)>stop):\n",
    "        prev_error=query_api(a,b)\n",
    "        d_a=(query_api(a+h, b) - query_api(a, b))/h\n",
    "        d_b=(query_api(a, b+h) - query_api(a, b))/h\n",
    "        next_a=(a-ss*d_a)\n",
    "        next_b=(b-ss*d_b)\n",
    "        a,b=next_a,next_b\n",
    "    return a,b,prev_error"
   ]
  },
  {
   "cell_type": "code",
   "execution_count": 57,
   "id": "6f4d531c",
   "metadata": {},
   "outputs": [
    {
     "data": {
      "text/plain": [
       "(0.7106722500001436, 0.1690771800000544, 1.0000317932)"
      ]
     },
     "execution_count": 57,
     "metadata": {},
     "output_type": "execute_result"
    }
   ],
   "source": [
    "opt_min(a=0.4,b=0.2,prev_error=100)"
   ]
  },
  {
   "cell_type": "code",
   "execution_count": 96,
   "id": "bcb660ff",
   "metadata": {},
   "outputs": [
    {
     "name": "stdout",
     "output_type": "stream",
     "text": [
      "There is one global min: 1.00004401976 at [0.7127202500004529, 0.17030597999984032]\n",
      "There is one local min: 1.00007797336 at [0.713875639999905, 0.16824395999993627]\n",
      "{1.00004401976: [0.7127202500004529, 0.17030597999984032],\n",
      " 1.00007797336: [0.713875639999905, 0.16824395999993627],\n",
      " 1.00009984108: [0.7097796300002397, 0.1682439500001575],\n",
      " 1.10018428952: [0.213861230000456, 0.6783404199999342],\n",
      " 1.10022471098: [0.2259441199999319, 0.6823019100000156],\n",
      " 1.10023418814: [0.2095755899989115, 0.6785623599992459],\n",
      " 1.10024005109: [0.22594412999948865, 0.6963756699999039],\n",
      " 1.10025784087: [0.22827274999969094, 0.6927519299991683],\n",
      " 1.10027318479: [0.20957558000024293, 0.7005525900004465]}\n"
     ]
    }
   ],
   "source": [
    "output={}\n",
    "range_a = [0.1,0.5,0.9]\n",
    "range_b = [0.1,0.5,0.9]\n",
    "for a in range_a:\n",
    "    for b in range_a:\n",
    "        optimal=opt_min(a,b,100)\n",
    "        avalue=optimal[0]\n",
    "        bvalue=optimal[1]\n",
    "        mininum=optimal[2]\n",
    "        output[mininum]=[avalue,bvalue]\n",
    "mininum_list=sorted(output.keys())\n",
    "global_=mininum_list[0] \n",
    "local_=mininum_list[1]\n",
    "global_ab=output.get(global_)  \n",
    "local_ab=output.get(local_)\n",
    "\n",
    "print(\"There is one global min:\", global_, \"at\", global_ab)\n",
    "print(\"There is one local min:\", local_, \"at\", local_ab)\n",
    "pprint.pprint(output)"
   ]
  },
  {
   "cell_type": "code",
   "execution_count": null,
   "id": "a7f10dee",
   "metadata": {},
   "outputs": [],
   "source": []
  }
 ],
 "metadata": {
  "kernelspec": {
   "display_name": "Python 3 (ipykernel)",
   "language": "python",
   "name": "python3"
  },
  "language_info": {
   "codemirror_mode": {
    "name": "ipython",
    "version": 3
   },
   "file_extension": ".py",
   "mimetype": "text/x-python",
   "name": "python",
   "nbconvert_exporter": "python",
   "pygments_lexer": "ipython3",
   "version": "3.9.12"
  }
 },
 "nbformat": 4,
 "nbformat_minor": 5
}
