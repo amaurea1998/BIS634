{
 "cells": [
  {
   "cell_type": "code",
   "execution_count": 1,
   "id": "26ee60c1",
   "metadata": {},
   "outputs": [],
   "source": [
    "import time\n",
    "import plotnine as p9\n",
    "import pandas as pd\n",
    "from tqdm import tqdm\n",
    "import matplotlib.pyplot as plt\n",
    "from functools import lru_cache"
   ]
  },
  {
   "cell_type": "code",
   "execution_count": 2,
   "id": "811fa1e8",
   "metadata": {},
   "outputs": [],
   "source": [
    "# naive solution\n",
    "def naive_fib(n):\n",
    "    if n <2:\n",
    "        return n\n",
    "    return naive_fib(n - 1) + naive_fib(n - 2)"
   ]
  },
  {
   "cell_type": "code",
   "execution_count": 3,
   "id": "1625410c",
   "metadata": {
    "scrolled": true
   },
   "outputs": [
    {
     "name": "stdout",
     "output_type": "stream",
     "text": [
      "3\n",
      "13\n",
      "610\n",
      "2584\n"
     ]
    }
   ],
   "source": [
    "# test\n",
    "print(naive_fib(4))\n",
    "print(naive_fib(7))\n",
    "print(naive_fib(15))\n",
    "print(naive_fib(18))"
   ]
  },
  {
   "cell_type": "code",
   "execution_count": 4,
   "id": "7b745842",
   "metadata": {},
   "outputs": [],
   "source": [
    "@lru_cache()\n",
    "def lru_cache_fib(n):\n",
    "    if n < 2:\n",
    "        return n\n",
    "    else:\n",
    "        return lru_cache_fib(n-1) + lru_cache_fib(n-2)"
   ]
  },
  {
   "cell_type": "code",
   "execution_count": 5,
   "id": "9a859d72",
   "metadata": {},
   "outputs": [
    {
     "name": "stdout",
     "output_type": "stream",
     "text": [
      "3\n",
      "13\n",
      "610\n",
      "2584\n"
     ]
    }
   ],
   "source": [
    "# test\n",
    "print(lru_cache_fib(4))\n",
    "print(lru_cache_fib(7))\n",
    "print(lru_cache_fib(15))\n",
    "print(lru_cache_fib(18))"
   ]
  },
  {
   "cell_type": "code",
   "execution_count": 97,
   "id": "615bdb3a",
   "metadata": {},
   "outputs": [
    {
     "name": "stderr",
     "output_type": "stream",
     "text": [
      "100%|██████████████████████████████████████████████████████████████████████████████████| 40/40 [00:58<00:00,  1.45s/it]\n"
     ]
    }
   ],
   "source": [
    "time_naive = []\n",
    "\n",
    "for n in tqdm(range(40)):\n",
    "    start=time.time()\n",
    "    runtime=naive_fib(n)\n",
    "    time_naive.append(time.time()-start)\n",
    "      "
   ]
  },
  {
   "cell_type": "code",
   "execution_count": 6,
   "id": "ecb086bc",
   "metadata": {},
   "outputs": [
    {
     "name": "stderr",
     "output_type": "stream",
     "text": [
      "100%|████████████████████████████████████████████████████████████████████████████| 100/100 [00:00<00:00, 100294.21it/s]\n"
     ]
    }
   ],
   "source": [
    "time_lru_cache = []\n",
    "\n",
    "for n in tqdm(range(100)):\n",
    "    start=time.time()\n",
    "    runtime=lru_cache_fib(n)\n",
    "    time_lru_cache.append(time.time()-start)\n",
    "      "
   ]
  },
  {
   "cell_type": "code",
   "execution_count": 123,
   "id": "ee0c4adf",
   "metadata": {
    "scrolled": true
   },
   "outputs": [
    {
     "data": {
      "image/png": "[encoded data removed]",
      "text/plain": [
       "<Figure size 432x288 with 1 Axes>"
      ]
     },
     "metadata": {
      "needs_background": "light"
     },
     "output_type": "display_data"
    }
   ],
   "source": [
    "plt.plot(range(40),time_naive, label=\"naive\")\n",
    "plt.plot(range(100),time_lru_cache, label=\"lru_cache\")\n",
    "plt.legend()\n",
    "plt.xlabel(\"n\")\n",
    "plt.ylabel(\"time\")\n",
    "plt.show()"
   ]
  }
 ],
 "metadata": {
  "kernelspec": {
   "display_name": "Python 3 (ipykernel)",
   "language": "python",
   "name": "python3"
  },
  "language_info": {
   "codemirror_mode": {
    "name": "ipython",
    "version": 3
   },
   "file_extension": ".py",
   "mimetype": "text/x-python",
   "name": "python",
   "nbconvert_exporter": "python",
   "pygments_lexer": "ipython3",
   "version": "3.9.12"
  }
 },
 "nbformat": 4,
 "nbformat_minor": 5
}
