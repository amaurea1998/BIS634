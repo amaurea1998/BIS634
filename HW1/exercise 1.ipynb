{
 "cells": [
  {
   "cell_type": "code",
   "execution_count": 1,
   "id": "c07d9a1c",
   "metadata": {},
   "outputs": [
    {
     "name": "stdout",
     "output_type": "stream",
     "text": [
      "true\n",
      "false\n",
      "false\n",
      "false\n",
      "false\n"
     ]
    }
   ],
   "source": [
    "def temp_tester(temp):\n",
    "    def case_temp(case_temp):\n",
    "        if(abs(case_temp - temp) <= 1):\n",
    "            print('true')\n",
    "        else:\n",
    "            print('false')\n",
    "        return\n",
    "    return case_temp\n",
    "\n",
    "        \n",
    "\n",
    "human_tester = temp_tester(37)\n",
    "chicken_tester = temp_tester(41.1)\n",
    "\n",
    "chicken_tester(42) # True -- i.e. not a fever for a chicken\n",
    "human_tester(42)   # False -- this would be a severe fever for a human\n",
    "chicken_tester(43) # False\n",
    "human_tester(35)   # False -- too low\n",
    "human_tester(98.6) # False -- normal in degrees F but our reference temp was in degrees C"
   ]
  },
  {
   "cell_type": "code",
   "execution_count": null,
   "id": "4b1b6f10",
   "metadata": {},
   "outputs": [],
   "source": []
  }
 ],
 "metadata": {
  "kernelspec": {
   "display_name": "Python 3 (ipykernel)",
   "language": "python",
   "name": "python3"
  },
  "language_info": {
   "codemirror_mode": {
    "name": "ipython",
    "version": 3
   },
   "file_extension": ".py",
   "mimetype": "text/x-python",
   "name": "python",
   "nbconvert_exporter": "python",
   "pygments_lexer": "ipython3",
   "version": "3.9.12"
  }
 },
 "nbformat": 4,
 "nbformat_minor": 5
}
