{
 "cells": [
  {
   "cell_type": "code",
   "execution_count": 1,
   "id": "ce8e42fc",
   "metadata": {},
   "outputs": [],
   "source": [
    "def alg1(data):\n",
    "    data = list(data)\n",
    "    changes = True\n",
    "    while changes:\n",
    "        changes = False\n",
    "        for i in range(len(data) - 1):\n",
    "            if data[i + 1] < data[i]:\n",
    "                data[i], data[i + 1] = data[i + 1], data[i]\n",
    "                changes = True\n",
    "    return data\n",
    "\n",
    "def alg2(data):\n",
    "    if len(data) <= 1:\n",
    "        return data\n",
    "    else:\n",
    "        split = len(data) // 2\n",
    "        left = iter(alg2(data[:split]))\n",
    "        right = iter(alg2(data[split:]))\n",
    "        result = []\n",
    "        # note: this takes the top items off the left and right piles\n",
    "        left_top = next(left)\n",
    "        right_top = next(right)\n",
    "        while True:\n",
    "            if left_top < right_top:\n",
    "                result.append(left_top)\n",
    "                try:\n",
    "                    left_top = next(left)\n",
    "                except StopIteration:\n",
    "                    # nothing remains on the left; add the right + return\n",
    "                    return result + [right_top] + list(right)\n",
    "            else:\n",
    "                result.append(right_top)\n",
    "                try:\n",
    "                    right_top = next(right)\n",
    "                except StopIteration:\n",
    "                    # nothing remains on the right; add the left + return\n",
    "                    return result + [left_top] + list(left)"
   ]
  },
  {
   "cell_type": "code",
   "execution_count": 2,
   "id": "7f107a9e",
   "metadata": {},
   "outputs": [
    {
     "data": {
      "text/plain": [
       "[1, 22, 333, 4444, 55555]"
      ]
     },
     "execution_count": 2,
     "metadata": {},
     "output_type": "execute_result"
    }
   ],
   "source": [
    "data = [1,22,333,4444,55555]\n",
    "alg1(data)"
   ]
  },
  {
   "cell_type": "code",
   "execution_count": 3,
   "id": "bbb79b56",
   "metadata": {},
   "outputs": [
    {
     "data": {
      "text/plain": [
       "[6, 66, 666, 66666, 666666, 66666666666, 666666666666666]"
      ]
     },
     "execution_count": 3,
     "metadata": {},
     "output_type": "execute_result"
    }
   ],
   "source": [
    "data = [66,6,666,666666,666666666666666,66666,66666666666]\n",
    "alg2(data)"
   ]
  },
  {
   "cell_type": "code",
   "execution_count": 4,
   "id": "d3a3ef04",
   "metadata": {},
   "outputs": [],
   "source": [
    "def data1(n, sigma=10, rho=28, beta=8/3, dt=0.01, x=1, y=1, z=1):\n",
    "    import numpy\n",
    "    state = numpy.array([x, y, z], dtype=float)\n",
    "    result = []\n",
    "    for _ in range(n):\n",
    "        x, y, z = state\n",
    "        state += dt * numpy.array([\n",
    "            sigma * (y - x),\n",
    "            x * (rho - z) - y,\n",
    "            x * y - beta * z\n",
    "        ])\n",
    "        result.append(float(state[0] + 30))\n",
    "    return result\n",
    "\n",
    "def data2(n):\n",
    "    return list(range(n))\n",
    "\n",
    "def data3(n):\n",
    "    return list(range(n, 0, -1))"
   ]
  },
  {
   "cell_type": "code",
   "execution_count": 5,
   "id": "ec052987",
   "metadata": {},
   "outputs": [],
   "source": [
    "import numpy as np\n",
    "from time import perf_counter\n",
    "import matplotlib.pyplot as plt"
   ]
  },
  {
   "cell_type": "code",
   "execution_count": 7,
   "id": "226f8f46",
   "metadata": {},
   "outputs": [
    {
     "data": {
      "text/plain": [
       "<matplotlib.legend.Legend at 0x20c774d2bb0>"
      ]
     },
     "execution_count": 7,
     "metadata": {},
     "output_type": "execute_result"
    },
    {
     "data": {
      "image/png": "[encoded data removed]",
      "text/plain": [
       "<Figure size 432x288 with 1 Axes>"
      ]
     },
     "metadata": {
      "needs_background": "light"
     },
     "output_type": "display_data"
    }
   ],
   "source": [
    "data = np.logspace(0,4,20)\n",
    "data = [int(a) for a in data]\n",
    "outcome1 = []\n",
    "outcome2 = []\n",
    "for i in data:\n",
    "    data_sort = data1(i)\n",
    "    start = perf_counter()\n",
    "    alg1(data_sort)\n",
    "    end = perf_counter()\n",
    "    outcome1.append(end-start)\n",
    "    \n",
    "    data_sort = data1(i)\n",
    "    start = perf_counter()\n",
    "    alg2(data_sort)\n",
    "    end = perf_counter()\n",
    "    outcome2.append(end-start)\n",
    "    \n",
    "plt.loglog(data,outcome1, label='alg1')\n",
    "plt.loglog(data,outcome2, label='alg2')\n",
    "plt.legend()"
   ]
  },
  {
   "cell_type": "code",
   "execution_count": 8,
   "id": "7e6bddd2",
   "metadata": {},
   "outputs": [
    {
     "data": {
      "text/plain": [
       "<matplotlib.legend.Legend at 0x20c78db6760>"
      ]
     },
     "execution_count": 8,
     "metadata": {},
     "output_type": "execute_result"
    },
    {
     "data": {
      "image/png": "[encoded data removed]",
      "text/plain": [
       "<Figure size 432x288 with 1 Axes>"
      ]
     },
     "metadata": {
      "needs_background": "light"
     },
     "output_type": "display_data"
    }
   ],
   "source": [
    "data = np.logspace(0,4,20)\n",
    "data = [int(a) for a in data]\n",
    "outcome1 = []\n",
    "outcome2 = []\n",
    "for i in data:\n",
    "    data_sort = data2(i)\n",
    "    start = perf_counter()\n",
    "    alg1(data_sort)\n",
    "    end = perf_counter()\n",
    "    outcome1.append(end-start)\n",
    "    \n",
    "    data_sort = data2(i)\n",
    "    start = perf_counter()\n",
    "    alg2(data_sort)\n",
    "    end = perf_counter()\n",
    "    outcome2.append(end-start)\n",
    "    \n",
    "plt.loglog(data,outcome1, label='alg1')\n",
    "plt.loglog(data,outcome2, label='alg2')\n",
    "plt.legend()"
   ]
  },
  {
   "cell_type": "code",
   "execution_count": 9,
   "id": "31f76b85",
   "metadata": {},
   "outputs": [
    {
     "data": {
      "text/plain": [
       "<matplotlib.legend.Legend at 0x20c788ca610>"
      ]
     },
     "execution_count": 9,
     "metadata": {},
     "output_type": "execute_result"
    },
    {
     "data": {
      "image/png": "[encoded data removed]",
      "text/plain": [
       "<Figure size 432x288 with 1 Axes>"
      ]
     },
     "metadata": {
      "needs_background": "light"
     },
     "output_type": "display_data"
    }
   ],
   "source": [
    "data = np.logspace(0,4,20)\n",
    "data = [int(a) for a in data]\n",
    "outcome1 = []\n",
    "outcome2 = []\n",
    "for i in data:\n",
    "    data_sort = data3(i)\n",
    "    start = perf_counter()\n",
    "    alg1(data_sort)\n",
    "    end = perf_counter()\n",
    "    outcome1.append(end-start)\n",
    "    \n",
    "    data_sort = data3(i)\n",
    "    start = perf_counter()\n",
    "    alg2(data_sort)\n",
    "    end = perf_counter()\n",
    "    outcome2.append(end-start)\n",
    "    \n",
    "plt.loglog(data,outcome1, label='alg1')\n",
    "plt.loglog(data,outcome2, label='alg2')\n",
    "plt.legend()"
   ]
  },
  {
   "cell_type": "code",
   "execution_count": null,
   "id": "4a05068a",
   "metadata": {},
   "outputs": [
    {
     "name": "stdout",
     "output_type": "stream",
     "text": [
      "execution time for alg2: 3.6516101360321045\n",
      "execution time for multiprocessing alg2: "
     ]
    }
   ],
   "source": [
    "import multiprocessing\n",
    "import time\n",
    "\n",
    "def alg1(data):\n",
    "    data = list(data)\n",
    "    changes = True\n",
    "    while changes:\n",
    "        changes = False\n",
    "        for i in range(len(data) - 1):\n",
    "            if data[i + 1] < data[i]:\n",
    "                data[i], data[i + 1] = data[i + 1], data[i]\n",
    "                changes = True\n",
    "    return data\n",
    "\n",
    "def data1(n, sigma=10, rho=28, beta=8 / 3, dt=0.01, x=1, y=1, z=1):\n",
    "    import numpy\n",
    "    state = numpy.array([x, y, z], dtype=float)\n",
    "    result = []\n",
    "    for _ in range(n):\n",
    "        x, y, z = state\n",
    "        state += dt * numpy.array([\n",
    "            sigma * (y - x),\n",
    "            x * (rho - z) - y,\n",
    "            x * y - beta * z\n",
    "        ])\n",
    "        result.append(float(state[0] + 30))\n",
    "    return result\n",
    "\n",
    "\n",
    "from multiprocessing import Process, Queue\n",
    "\n",
    "def alg2(data):\n",
    "    if len(data) <= 1:\n",
    "        return data\n",
    "    else:\n",
    "        split = len(data) // 2\n",
    "        left = iter(alg2(data[:split]))\n",
    "        right = iter(alg2(data[split:]))\n",
    "        result = []\n",
    "        # note: this takes the top items off the left and right piles\n",
    "        left_top = next(left)\n",
    "        right_top = next(right)\n",
    "        while True:\n",
    "            if left_top < right_top:\n",
    "                result.append(left_top)\n",
    "                try:\n",
    "                    left_top = next(left)\n",
    "                except StopIteration:\n",
    "                    # nothing remains on the left; add the right + return\n",
    "                    return result + [right_top] + list(right)\n",
    "            else:\n",
    "                result.append(right_top)\n",
    "                try:\n",
    "                    right_top = next(right)\n",
    "                except StopIteration:\n",
    "                    # nothing remains on the right; add the left + return\n",
    "                    return result + [left_top] + list(left)\n",
    "\n",
    "def worker(data, id, return_dict):\n",
    "    res = alg2(data)\n",
    "    return_dict[id] = res\n",
    "\n",
    "def new_alg2(data):\n",
    "\n",
    "    split = len(data) // 2\n",
    "    left = data[:split]\n",
    "    right = data[split:]\n",
    "\n",
    "    # never used queue for storing large amount of data!\n",
    "    # q = Queue()\n",
    "    # use manger instead\n",
    "    manager = multiprocessing.Manager()\n",
    "    return_dict = manager.dict()\n",
    "    process_list = []\n",
    "\n",
    "    p1 = Process(target=worker, args=(left,'left', return_dict))\n",
    "    process_list.append(p1)\n",
    "    p1.start()\n",
    "\n",
    "    p2 = Process(target=worker, args=(right, 'right', return_dict))\n",
    "    process_list.append(p2)\n",
    "    p2.start()\n",
    "\n",
    "    # wait for processes to finished\n",
    "    p1.join()\n",
    "    p2.join()\n",
    "\n",
    "    # combined the result from the processes\n",
    "    left = iter(list(return_dict['left']))\n",
    "    right = iter(list(return_dict['right']))\n",
    "    left_top = next(left)\n",
    "    right_top = next(right)\n",
    "    result = []\n",
    "    while True:\n",
    "        if left_top < right_top:\n",
    "            result.append(left_top)\n",
    "            try:\n",
    "                left_top = next(left)\n",
    "            except StopIteration:\n",
    "                # nothing remains on the left; add the right + return\n",
    "                return result + [right_top] + list(right)\n",
    "        else:\n",
    "            result.append(right_top)\n",
    "            try:\n",
    "                right_top = next(right)\n",
    "            except StopIteration:\n",
    "                # nothing remains on the right; add the left + return\n",
    "                return result + [left_top] + list(left)\n",
    "\n",
    "\n",
    "if __name__ == '__main__':\n",
    "    data = data1(1000000)\n",
    "\n",
    "    print('execution time for alg2: ', end=\"\")\n",
    "    start_time = time.time()\n",
    "    alg2(data)\n",
    "    end_time = time.time()\n",
    "    print(end_time - start_time)\n",
    "\n",
    "    print('execution time for multiprocessing alg2: ', end=\"\")\n",
    "    start_time = time.time()\n",
    "    new_alg2(data)\n",
    "    end_time = time.time()\n",
    "    print(end_time - start_time)\n",
    "\n",
    "    print('execution time for alg1: ', end=\"\")\n",
    "    start_time = time.time()\n",
    "    alg1(data)\n",
    "    end_time = time.time()\n",
    "    print(end_time - start_time)\n",
    "\n"
   ]
  },
  {
   "cell_type": "code",
   "execution_count": null,
   "id": "6a351763",
   "metadata": {},
   "outputs": [],
   "source": []
  }
 ],
 "metadata": {
  "kernelspec": {
   "display_name": "Python 3 (ipykernel)",
   "language": "python",
   "name": "python3"
  },
  "language_info": {
   "codemirror_mode": {
    "name": "ipython",
    "version": 3
   },
   "file_extension": ".py",
   "mimetype": "text/x-python",
   "name": "python",
   "nbconvert_exporter": "python",
   "pygments_lexer": "ipython3",
   "version": "3.9.12"
  }
 },
 "nbformat": 4,
 "nbformat_minor": 5
}
